{
 "cells": [
  {
   "cell_type": "markdown",
   "metadata": {},
   "source": [
    "### 1 Python libraries for use in this notebook"
   ]
  },
  {
   "cell_type": "code",
   "execution_count": 183,
   "metadata": {},
   "outputs": [],
   "source": [
    "import pandas as pd\n",
    "import numpy as np\n",
    "import os\n",
    "import re"
   ]
  },
  {
   "cell_type": "code",
   "execution_count": 3,
   "metadata": {},
   "outputs": [
    {
     "data": {
      "text/plain": [
       "'E:\\\\data incubator'"
      ]
     },
     "execution_count": 3,
     "metadata": {},
     "output_type": "execute_result"
    }
   ],
   "source": [
    "os.chdir('E:/data incubator/')\n",
    "os.getcwd()"
   ]
  },
  {
   "cell_type": "markdown",
   "metadata": {},
   "source": [
    "### 2 Load the LinkedIn Company dataset"
   ]
  },
  {
   "cell_type": "code",
   "execution_count": 4,
   "metadata": {},
   "outputs": [
    {
     "name": "stderr",
     "output_type": "stream",
     "text": [
      "C:\\Anaconda3\\lib\\site-packages\\IPython\\core\\interactiveshell.py:3049: DtypeWarning: Columns (9,10) have mixed types. Specify dtype option on import or set low_memory=False.\n",
      "  interactivity=interactivity, compiler=compiler, result=result)\n"
     ]
    }
   ],
   "source": [
    "df_linkedin = pd.read_csv('temp_datalab_records_linkedin_company.csv')"
   ]
  },
  {
   "cell_type": "code",
   "execution_count": 11,
   "metadata": {},
   "outputs": [
    {
     "data": {
      "text/plain": [
       "'Aviation & Aerospace'"
      ]
     },
     "execution_count": 11,
     "metadata": {},
     "output_type": "execute_result"
    }
   ],
   "source": [
    "industry_types = df_linkedin['industry'].unique()\n",
    "industry_types[1]"
   ]
  },
  {
   "cell_type": "markdown",
   "metadata": {},
   "source": [
    "### 3 Find the most popular companies with most followers on LinkedIn in each industry"
   ]
  },
  {
   "cell_type": "code",
   "execution_count": 114,
   "metadata": {},
   "outputs": [],
   "source": [
    "# len(industry_types)\n",
    "top = pd.DataFrame(columns=['company_name', 'industry'])\n",
    "for i in range(0, 75):\n",
    "    df = df_linkedin[df_linkedin['industry']==industry_types[i]]\n",
    "    #df = df.sort_values(by='followers_count', ascending=False)\n",
    "    df = pd.pivot_table(df, index=['company_name'])\n",
    "    df = df.sort_values(by='followers_count', ascending=False).reset_index(drop=False)\n",
    "                                                                                                                   \n",
    "    top = top.append({'company_name': df['company_name'].loc[0], 'industry': industry_types[i]}, ignore_index=True)\n",
    "\n",
    "# number 76 has some problem and need to be processed separately\n",
    "df = df_linkedin[df_linkedin['industry']==industry_types[76]]\n",
    "df = pd.pivot_table(df, index=['company_name'])\n",
    "df=df.reset_index(drop=False)\n",
    "df.columns=df.columns.str.strip()\n",
    "df=df.T.sort_values('followers_count', ascending=False, axis=1)\n",
    "top = top.append({'company_name': df[30][0], 'industry': industry_types[76]}, ignore_index=True)\n",
    "    \n",
    "for i in range(76, len(industry_types)):\n",
    "    df = df_linkedin[df_linkedin['industry']==industry_types[i]]\n",
    "    df = pd.pivot_table(df, index=['company_name'])\n",
    "    df = df.sort_values(by='followers_count', ascending=False).reset_index(drop=False)\n",
    "                                                                                                                   \n",
    "    top = top.append({'company_name': df['company_name'].loc[0], 'industry': industry_types[i]}, ignore_index=True)                "
   ]
  },
  {
   "cell_type": "code",
   "execution_count": 235,
   "metadata": {},
   "outputs": [
    {
     "data": {
      "text/html": [
       "<div>\n",
       "<style scoped>\n",
       "    .dataframe tbody tr th:only-of-type {\n",
       "        vertical-align: middle;\n",
       "    }\n",
       "\n",
       "    .dataframe tbody tr th {\n",
       "        vertical-align: top;\n",
       "    }\n",
       "\n",
       "    .dataframe thead th {\n",
       "        text-align: right;\n",
       "    }\n",
       "</style>\n",
       "<table border=\"1\" class=\"dataframe\">\n",
       "  <thead>\n",
       "    <tr style=\"text-align: right;\">\n",
       "      <th></th>\n",
       "      <th>company_name</th>\n",
       "      <th>industry</th>\n",
       "    </tr>\n",
       "  </thead>\n",
       "  <tbody>\n",
       "    <tr>\n",
       "      <th>0</th>\n",
       "      <td>Goldman Sachs</td>\n",
       "      <td>Investment Banking</td>\n",
       "    </tr>\n",
       "    <tr>\n",
       "      <th>1</th>\n",
       "      <td>Boeing</td>\n",
       "      <td>Aviation &amp; Aerospace</td>\n",
       "    </tr>\n",
       "    <tr>\n",
       "      <th>2</th>\n",
       "      <td>Pfizer</td>\n",
       "      <td>Pharmaceuticals</td>\n",
       "    </tr>\n",
       "    <tr>\n",
       "      <th>3</th>\n",
       "      <td>Walmart</td>\n",
       "      <td>Retail</td>\n",
       "    </tr>\n",
       "    <tr>\n",
       "      <th>4</th>\n",
       "      <td>Johnson &amp; Johnson</td>\n",
       "      <td>Hospital &amp; Health Care</td>\n",
       "    </tr>\n",
       "  </tbody>\n",
       "</table>\n",
       "</div>"
      ],
      "text/plain": [
       "        company_name                industry\n",
       "0      Goldman Sachs      Investment Banking\n",
       "1             Boeing    Aviation & Aerospace\n",
       "2             Pfizer         Pharmaceuticals\n",
       "3            Walmart                  Retail\n",
       "4  Johnson & Johnson  Hospital & Health Care"
      ]
     },
     "execution_count": 235,
     "metadata": {},
     "output_type": "execute_result"
    }
   ],
   "source": [
    "top.head()"
   ]
  },
  {
   "cell_type": "markdown",
   "metadata": {},
   "source": [
    "### 4 Scraping Indeed job information of the most popular companies with most followers on LinkedIn\n",
    "Be aware: LinkedIn may have some restriction for web scraping. So I test scraping job information from Indeed."
   ]
  },
  {
   "cell_type": "markdown",
   "metadata": {},
   "source": [
    "#### 4.1 Import neccessary libraries for scraping\n",
    "package needed: BeautifulSoup, selenium for scraping"
   ]
  },
  {
   "cell_type": "code",
   "execution_count": 261,
   "metadata": {},
   "outputs": [],
   "source": [
    "import requests\n",
    "import bs4\n",
    "from bs4 import BeautifulSoup\n",
    "import pandas as pd\n",
    "import time\n",
    "import urllib\n",
    "# !pip install selenium\n",
    "from selenium import webdriver\n",
    "from selenium.webdriver.common.keys import Keys\n",
    "import urllib.request\n",
    "from html.parser import HTMLParser\n",
    "import tqdm\n",
    "from tqdm import tqdm_notebook as tqdm\n",
    "from time import sleep\n",
    "import nltk\n",
    "from datetime import date\n",
    "import matplotlib.pyplot as plt"
   ]
  },
  {
   "cell_type": "markdown",
   "metadata": {},
   "source": [
    "#### 4.2 Scrape and generate pandas dataframe for further analysis\n",
    "Citations: Code integrated from [Medium post - Web Scraping Job Postings from Indeed](https://medium.com/@msalmon00/web-scraping-job-postings-from-indeed-96bd588dcb4b), [Romtein github repo of web scraper](https://github.com/Romtein/Indeed-Python-Scraper/blob/master/Indeed%20Scraper.ipynb), and [developer community post - web scraping walkthrough with Python](https://dev.to/awwsmm/web-scraping-walkthrough-with-python-85c) with modification"
   ]
  },
  {
   "cell_type": "markdown",
   "metadata": {},
   "source": [
    "##### 4.2.1 Extract all information from the provided url on Indeed\n",
    "Use Goldman Sachs in Investment Banking industry category as an example"
   ]
  },
  {
   "cell_type": "code",
   "execution_count": 230,
   "metadata": {},
   "outputs": [],
   "source": [
    "# Use Goldman Sachs in Investment Banking as an example\n",
    "url = \"https://www.indeed.com/jobs?q=goldman+sachs&l=New+York+State\"\n",
    "\n",
    "#conducting a request of the stated URL above:\n",
    "page = requests.get(url)\n",
    "\n",
    "#specifying a desired format of “page” using the html parser - this allows python to read the various components of the page, rather than treating it as one long string.\n",
    "soup = BeautifulSoup(page.text, 'html.parser')\n",
    "\n",
    "#printing soup in a more structured tree format that makes for easier reading\n",
    "# print(soup.prettify())"
   ]
  },
  {
   "cell_type": "markdown",
   "metadata": {},
   "source": [
    "##### 4.2.2 Job title extraction"
   ]
  },
  {
   "cell_type": "code",
   "execution_count": 245,
   "metadata": {},
   "outputs": [
    {
     "data": {
      "text/plain": [
       "['CIMD - Marcus by Goldman Sachs - Data Scientist',\n",
       " 'iOS Developer - CIMD - Marcus by Goldman Sachs',\n",
       " 'Back-End Developer - CIMD - Marcus by Goldman Sachs',\n",
       " 'CIMD - Marcus by Goldman Sachs – CRM Manager – Analyst - New York City',\n",
       " 'Front-End Developer - CIMD - Marcus by Goldman Sachs',\n",
       " 'Android Developer - CIMD - Marcus by Goldman Sachs']"
      ]
     },
     "execution_count": 245,
     "metadata": {},
     "output_type": "execute_result"
    }
   ],
   "source": [
    "def extract_job_title_from_result(soup): \n",
    "    jobs = []\n",
    "    for div in soup.find_all(name='div', attrs={'class':'row'}):\n",
    "        for a in div.find_all(name='a', attrs={'data-tn-element':'jobTitle'}):\n",
    "            jobs.append(a['title'])\n",
    "    return(jobs)\n",
    "extract_job_title_from_result(soup)[:6]"
   ]
  },
  {
   "cell_type": "markdown",
   "metadata": {},
   "source": [
    "##### 4.2.3 Check if company name match"
   ]
  },
  {
   "cell_type": "code",
   "execution_count": 243,
   "metadata": {},
   "outputs": [
    {
     "data": {
      "text/plain": [
       "['Goldman Sachs', 'Goldman Sachs']"
      ]
     },
     "execution_count": 243,
     "metadata": {},
     "output_type": "execute_result"
    }
   ],
   "source": [
    "def extract_company_from_result(soup): \n",
    "    companies = []\n",
    "    for div in soup.find_all(name='div', attrs={'class':'row'}):\n",
    "        company = div.find_all(name='span', attrs={'class':'company'})\n",
    "        if len(company) > 0:\n",
    "            for b in company:\n",
    "                companies.append(b.text.strip())\n",
    "        else:\n",
    "            sec_try = div.find_all(name='span', attrs={'class':'result-link-source'})\n",
    "            for span in sec_try:\n",
    "                companies.append(span.text.strip())\n",
    "    return(companies)\n",
    " \n",
    "extract_company_from_result(soup)[:2]"
   ]
  },
  {
   "cell_type": "markdown",
   "metadata": {},
   "source": [
    "##### 4.2.4 Job location extraction if no state selected"
   ]
  },
  {
   "cell_type": "code",
   "execution_count": 244,
   "metadata": {},
   "outputs": [
    {
     "data": {
      "text/plain": [
       "['New York, NY 10282 (Battery Park area)',\n",
       " 'New York, NY 10282 (Battery Park area)']"
      ]
     },
     "execution_count": 244,
     "metadata": {},
     "output_type": "execute_result"
    }
   ],
   "source": [
    "def extract_location_from_result(soup): \n",
    "    locations = []\n",
    "    spans = soup.findAll('span', attrs={'class': 'location'})\n",
    "    for span in spans:\n",
    "        locations.append(span.text)\n",
    "    return(locations)\n",
    "\n",
    "extract_location_from_result(soup)[:2]"
   ]
  },
  {
   "cell_type": "markdown",
   "metadata": {},
   "source": [
    "##### 4.2.5 Job description extraction integrated with all information above"
   ]
  },
  {
   "cell_type": "code",
   "execution_count": 233,
   "metadata": {},
   "outputs": [
    {
     "data": {
      "text/html": [
       "<div>\n",
       "<style scoped>\n",
       "    .dataframe tbody tr th:only-of-type {\n",
       "        vertical-align: middle;\n",
       "    }\n",
       "\n",
       "    .dataframe tbody tr th {\n",
       "        vertical-align: top;\n",
       "    }\n",
       "\n",
       "    .dataframe thead th {\n",
       "        text-align: right;\n",
       "    }\n",
       "</style>\n",
       "<table border=\"1\" class=\"dataframe\">\n",
       "  <thead>\n",
       "    <tr style=\"text-align: right;\">\n",
       "      <th></th>\n",
       "      <th>company name</th>\n",
       "      <th>job title</th>\n",
       "      <th>job location</th>\n",
       "      <th>job url</th>\n",
       "      <th>job summary</th>\n",
       "    </tr>\n",
       "  </thead>\n",
       "  <tbody>\n",
       "    <tr>\n",
       "      <th>0</th>\n",
       "      <td>Goldman Sachs</td>\n",
       "      <td>iOS Developer - CIMD - Marcus by Goldman Sachs</td>\n",
       "      <td>New York, NY 10282 (Battery Park area)</td>\n",
       "      <td>https://www.indeed.com/rc/clk?jk=a7533453cad2d...</td>\n",
       "      <td>Find jobs\\nCompany reviews\\nFind salaries\\nUpl...</td>\n",
       "    </tr>\n",
       "    <tr>\n",
       "      <th>1</th>\n",
       "      <td>Goldman Sachs</td>\n",
       "      <td>CIMD - Marcus by Goldman Sachs - Data Scientist</td>\n",
       "      <td>New York, NY 10282 (Battery Park area)</td>\n",
       "      <td>https://www.indeed.com/rc/clk?jk=04e2d50ddd515...</td>\n",
       "      <td>Find jobs\\nCompany reviews\\nFind salaries\\nUpl...</td>\n",
       "    </tr>\n",
       "    <tr>\n",
       "      <th>2</th>\n",
       "      <td>Goldman Sachs</td>\n",
       "      <td>Back-End Developer - CIMD - Marcus by Goldman ...</td>\n",
       "      <td>New York, NY 10282 (Battery Park area)</td>\n",
       "      <td>https://www.indeed.com/rc/clk?jk=471ef2dcfab9e...</td>\n",
       "      <td>Find jobs\\nCompany reviews\\nFind salaries\\nUpl...</td>\n",
       "    </tr>\n",
       "    <tr>\n",
       "      <th>3</th>\n",
       "      <td>Goldman Sachs</td>\n",
       "      <td>CIMD - Marcus by Goldman Sachs – CRM Manager –...</td>\n",
       "      <td>New York, NY 10282 (Battery Park area)</td>\n",
       "      <td>https://www.indeed.com/rc/clk?jk=37a9aefb1a689...</td>\n",
       "      <td>Find jobs\\nCompany reviews\\nFind salaries\\nUpl...</td>\n",
       "    </tr>\n",
       "    <tr>\n",
       "      <th>4</th>\n",
       "      <td>Goldman Sachs</td>\n",
       "      <td>Global Portfolio Solutions (GPS) Strats - CIMD</td>\n",
       "      <td>New York, NY 10282 (Battery Park area)</td>\n",
       "      <td>https://www.indeed.com/rc/clk?jk=8e09572056144...</td>\n",
       "      <td>Find jobs\\nCompany reviews\\nFind salaries\\nUpl...</td>\n",
       "    </tr>\n",
       "  </tbody>\n",
       "</table>\n",
       "</div>"
      ],
      "text/plain": [
       "    company name                                          job title  \\\n",
       "0  Goldman Sachs     iOS Developer - CIMD - Marcus by Goldman Sachs   \n",
       "1  Goldman Sachs    CIMD - Marcus by Goldman Sachs - Data Scientist   \n",
       "2  Goldman Sachs  Back-End Developer - CIMD - Marcus by Goldman ...   \n",
       "3  Goldman Sachs  CIMD - Marcus by Goldman Sachs – CRM Manager –...   \n",
       "4  Goldman Sachs     Global Portfolio Solutions (GPS) Strats - CIMD   \n",
       "\n",
       "                             job location  \\\n",
       "0  New York, NY 10282 (Battery Park area)   \n",
       "1  New York, NY 10282 (Battery Park area)   \n",
       "2  New York, NY 10282 (Battery Park area)   \n",
       "3  New York, NY 10282 (Battery Park area)   \n",
       "4  New York, NY 10282 (Battery Park area)   \n",
       "\n",
       "                                             job url  \\\n",
       "0  https://www.indeed.com/rc/clk?jk=a7533453cad2d...   \n",
       "1  https://www.indeed.com/rc/clk?jk=04e2d50ddd515...   \n",
       "2  https://www.indeed.com/rc/clk?jk=471ef2dcfab9e...   \n",
       "3  https://www.indeed.com/rc/clk?jk=37a9aefb1a689...   \n",
       "4  https://www.indeed.com/rc/clk?jk=8e09572056144...   \n",
       "\n",
       "                                         job summary  \n",
       "0  Find jobs\\nCompany reviews\\nFind salaries\\nUpl...  \n",
       "1  Find jobs\\nCompany reviews\\nFind salaries\\nUpl...  \n",
       "2  Find jobs\\nCompany reviews\\nFind salaries\\nUpl...  \n",
       "3  Find jobs\\nCompany reviews\\nFind salaries\\nUpl...  \n",
       "4  Find jobs\\nCompany reviews\\nFind salaries\\nUpl...  "
      ]
     },
     "execution_count": 233,
     "metadata": {},
     "output_type": "execute_result"
    }
   ],
   "source": [
    "# download chromedriver for Windows, MacOS or Linux, store the file in the directory\n",
    "chromedriver = \"Z:/chromedriver_win32/chromedriver.exe\"\n",
    "\n",
    "driver = webdriver.Chrome(chromedriver)\n",
    "\n",
    "def extract_summary_from_result(soup): \n",
    "    # job title, company name extraction with function above\n",
    "    job_title = extract_job_title_from_result(soup)\n",
    "    \n",
    "    company_name = extract_company_from_result(soup)\n",
    "    \n",
    "    job_loc = extract_location_from_result(soup)\n",
    "    \n",
    "    summaries = pd.DataFrame(columns=['job url','job summary'])\n",
    "    \n",
    "    for adlink in soup.select('a[onmousedown*=\"rclk(this,jobmap\"]'):\n",
    "        suburl = \"https://www.indeed.com\"+adlink['href']\n",
    "#         print(suburl)\n",
    "        driver.get(suburl)\n",
    "        \n",
    "        htmlfile = urllib.request.urlopen(suburl)\n",
    "\n",
    "        subpage = requests.get(suburl)\n",
    "\n",
    "        subSOUP = BeautifulSoup(subpage.text, 'html.parser') \n",
    "        \n",
    "        desc = driver.find_element_by_tag_name(\"body\").get_attribute(\"innerText\")\n",
    "        [i.replace(\"\\n\", \" \") for i in desc]\n",
    "        \n",
    "        summaries = summaries.append({'job url': suburl, 'job summary': desc}, ignore_index=True)\n",
    "    \n",
    "    # dataframe organization\n",
    "    summaries['job title'] = job_title\n",
    "    summaries['company name'] = company_name\n",
    "    summaries['job location'] = job_loc\n",
    "    cols = ['company name', 'job title', 'job location', 'job url', 'job summary']\n",
    "    summaries = summaries[cols]\n",
    "    \n",
    "    return summaries\n",
    "\n",
    "summary = extract_summary_from_result(soup)\n",
    "summary.head()"
   ]
  },
  {
   "cell_type": "markdown",
   "metadata": {},
   "source": [
    "##### 4.2.6 Scraping first 20 pages of the most popular company with most followers on LinkedIn\n",
    "Note: Scrape first 10 pages as an example"
   ]
  },
  {
   "cell_type": "code",
   "execution_count": 246,
   "metadata": {},
   "outputs": [
    {
     "data": {
      "application/vnd.jupyter.widget-view+json": {
       "model_id": "04eec596531d4c7b9371736579be313b",
       "version_major": 2,
       "version_minor": 0
      },
      "text/plain": [
       "HBox(children=(IntProgress(value=0, max=20), HTML(value='')))"
      ]
     },
     "metadata": {},
     "output_type": "display_data"
    },
    {
     "name": "stdout",
     "output_type": "stream",
     "text": [
      "\n"
     ]
    }
   ],
   "source": [
    "# Indeed jobs per page, and specify how many pages to be scraped \n",
    "web_pages = 20\n",
    "job_per_page = 10\n",
    "job_scraped = web_pages*job_per_page\n",
    "\n",
    "# final result dataframe\n",
    "rslt = pd.DataFrame(columns=['company name', 'job title', 'job location', 'job url', 'job summary'])\n",
    "\n",
    "for page_num in tqdm(range(0, web_pages)):\n",
    "    \n",
    "    # space out each request, be gentle to the website\n",
    "    time.sleep(2)\n",
    "    \n",
    "    search = 'https://www.indeed.com/jobs?q=goldman+sachs&l=New+York+State&start=' + str(job_per_page*page_num)\n",
    "    \n",
    "    #conducting a request of the stated URL above:\n",
    "    page = requests.get(url)\n",
    "\n",
    "    #specifying a desired format of “page” using the html parser - this allows python to read the various components of the page, rather than treating it as one long string.\n",
    "    soup = BeautifulSoup(page.text, 'html.parser')\n",
    "    \n",
    "    summary = extract_summary_from_result(soup)\n",
    "    rslt = rslt.append(summary, ignore_index=True)"
   ]
  },
  {
   "cell_type": "code",
   "execution_count": 251,
   "metadata": {},
   "outputs": [
    {
     "data": {
      "text/html": [
       "<div>\n",
       "<style scoped>\n",
       "    .dataframe tbody tr th:only-of-type {\n",
       "        vertical-align: middle;\n",
       "    }\n",
       "\n",
       "    .dataframe tbody tr th {\n",
       "        vertical-align: top;\n",
       "    }\n",
       "\n",
       "    .dataframe thead th {\n",
       "        text-align: right;\n",
       "    }\n",
       "</style>\n",
       "<table border=\"1\" class=\"dataframe\">\n",
       "  <thead>\n",
       "    <tr style=\"text-align: right;\">\n",
       "      <th></th>\n",
       "      <th>company name</th>\n",
       "      <th>job title</th>\n",
       "      <th>job location</th>\n",
       "      <th>job url</th>\n",
       "      <th>job summary</th>\n",
       "    </tr>\n",
       "  </thead>\n",
       "  <tbody>\n",
       "    <tr>\n",
       "      <th>0</th>\n",
       "      <td>Goldman Sachs</td>\n",
       "      <td>CIMD - Marcus by Goldman Sachs - Data Scientist</td>\n",
       "      <td>New York, NY 10282 (Battery Park area)</td>\n",
       "      <td>https://www.indeed.com/rc/clk?jk=04e2d50ddd515...</td>\n",
       "      <td>Find jobs\\nCompany reviews\\nFind salaries\\nUpl...</td>\n",
       "    </tr>\n",
       "    <tr>\n",
       "      <th>1</th>\n",
       "      <td>Goldman Sachs</td>\n",
       "      <td>iOS Developer - CIMD - Marcus by Goldman Sachs</td>\n",
       "      <td>New York, NY 10282 (Battery Park area)</td>\n",
       "      <td>https://www.indeed.com/rc/clk?jk=a7533453cad2d...</td>\n",
       "      <td>Find jobs\\nCompany reviews\\nFind salaries\\nUpl...</td>\n",
       "    </tr>\n",
       "    <tr>\n",
       "      <th>2</th>\n",
       "      <td>Goldman Sachs</td>\n",
       "      <td>Back-End Developer - CIMD - Marcus by Goldman ...</td>\n",
       "      <td>New York, NY 10282 (Battery Park area)</td>\n",
       "      <td>https://www.indeed.com/rc/clk?jk=471ef2dcfab9e...</td>\n",
       "      <td>Find jobs\\nCompany reviews\\nFind salaries\\nUpl...</td>\n",
       "    </tr>\n",
       "    <tr>\n",
       "      <th>3</th>\n",
       "      <td>Goldman Sachs</td>\n",
       "      <td>CIMD - Marcus by Goldman Sachs – CRM Manager –...</td>\n",
       "      <td>New York, NY 10282 (Battery Park area)</td>\n",
       "      <td>https://www.indeed.com/rc/clk?jk=37a9aefb1a689...</td>\n",
       "      <td>Find jobs\\nCompany reviews\\nFind salaries\\nUpl...</td>\n",
       "    </tr>\n",
       "    <tr>\n",
       "      <th>4</th>\n",
       "      <td>Goldman Sachs</td>\n",
       "      <td>Front-End Developer - CIMD - Marcus by Goldman...</td>\n",
       "      <td>New York, NY 10282 (Battery Park area)</td>\n",
       "      <td>https://www.indeed.com/rc/clk?jk=5098ed2ba88ab...</td>\n",
       "      <td>Find jobs\\nCompany reviews\\nFind salaries\\nUpl...</td>\n",
       "    </tr>\n",
       "  </tbody>\n",
       "</table>\n",
       "</div>"
      ],
      "text/plain": [
       "    company name                                          job title  \\\n",
       "0  Goldman Sachs    CIMD - Marcus by Goldman Sachs - Data Scientist   \n",
       "1  Goldman Sachs     iOS Developer - CIMD - Marcus by Goldman Sachs   \n",
       "2  Goldman Sachs  Back-End Developer - CIMD - Marcus by Goldman ...   \n",
       "3  Goldman Sachs  CIMD - Marcus by Goldman Sachs – CRM Manager –...   \n",
       "4  Goldman Sachs  Front-End Developer - CIMD - Marcus by Goldman...   \n",
       "\n",
       "                             job location  \\\n",
       "0  New York, NY 10282 (Battery Park area)   \n",
       "1  New York, NY 10282 (Battery Park area)   \n",
       "2  New York, NY 10282 (Battery Park area)   \n",
       "3  New York, NY 10282 (Battery Park area)   \n",
       "4  New York, NY 10282 (Battery Park area)   \n",
       "\n",
       "                                             job url  \\\n",
       "0  https://www.indeed.com/rc/clk?jk=04e2d50ddd515...   \n",
       "1  https://www.indeed.com/rc/clk?jk=a7533453cad2d...   \n",
       "2  https://www.indeed.com/rc/clk?jk=471ef2dcfab9e...   \n",
       "3  https://www.indeed.com/rc/clk?jk=37a9aefb1a689...   \n",
       "4  https://www.indeed.com/rc/clk?jk=5098ed2ba88ab...   \n",
       "\n",
       "                                         job summary  \n",
       "0  Find jobs\\nCompany reviews\\nFind salaries\\nUpl...  \n",
       "1  Find jobs\\nCompany reviews\\nFind salaries\\nUpl...  \n",
       "2  Find jobs\\nCompany reviews\\nFind salaries\\nUpl...  \n",
       "3  Find jobs\\nCompany reviews\\nFind salaries\\nUpl...  \n",
       "4  Find jobs\\nCompany reviews\\nFind salaries\\nUpl...  "
      ]
     },
     "execution_count": 251,
     "metadata": {},
     "output_type": "execute_result"
    }
   ],
   "source": [
    "rslt.head()"
   ]
  },
  {
   "cell_type": "markdown",
   "metadata": {},
   "source": [
    "##### 4.2.7 Explore most frequent jobs posted/needed\n",
    "Note: \n",
    "- CIMD stands for CONSUMER AND INVESTMENT MANAGEMENT DIVISION\n",
    "- GPS stands for Global Portfolio Solutions"
   ]
  },
  {
   "cell_type": "code",
   "execution_count": 323,
   "metadata": {},
   "outputs": [
    {
     "data": {
      "text/plain": [
       "Text(45.125, 0.5, 'keywords dist out of 200 total scraped jobs')"
      ]
     },
     "execution_count": 323,
     "metadata": {},
     "output_type": "execute_result"
    },
    {
     "data": {
      "image/png": "[encoded data removed]",
      "text/plain": [
       "<Figure size 576x720 with 2 Axes>"
      ]
     },
     "metadata": {
      "needs_background": "light"
     },
     "output_type": "display_data"
    }
   ],
   "source": [
    "# job title\n",
    "title_dist = nltk.FreqDist(rslt['job title'])\n",
    "title_df = pd.DataFrame(title_dist.most_common(5),columns=['Word','Frequency'])\n",
    "title_df = title_df.reset_index(drop=False)\n",
    "\n",
    "# individual keywords in job titles\n",
    "inv_word = pd.Series(np.concatenate([x.split() for x in rslt['job title']])).value_counts()\n",
    "inv_word = inv_word.drop(['-', '–', 'Marcus', 'by', 'Goldman', 'Sachs', 'New', 'York', 'City', 'and'])\n",
    "inv_word = inv_word.reset_index().reset_index()\n",
    "inv_word = inv_word.rename(columns = {'level_0': 'ind', 'index': 'keyword', 0 : 'count'})\n",
    "######## \n",
    "# Plot\n",
    "########\n",
    "fig, ax = plt.subplots(2, figsize=(8, 10))\n",
    "fig.tight_layout()\n",
    "fig.subplots_adjust(hspace=0.75)\n",
    "ax[0].plot(title_df['index'], title_df['Frequency'], color = 'black', alpha = 0.5)  \n",
    "ax[0].set_title('Most in-demand jobs with Goldman Sachs in NY as of ' + str (date.today()))\n",
    "ax[0].set_xticks([0,1,2,3,4]) \n",
    "ax[0].set_xticklabels(title_df['Word'], rotation=20, rotation_mode=\"anchor\", ha=\"right\")\n",
    "ax[0].set_ylim(0, 25)\n",
    "ax[0].set_yticks([0, 10, 20, 30])\n",
    "ax[0].set_ylabel('Job counts out of ' + str(len(rslt)) + ' total scraped jobs')\n",
    "ax[0].tick_params(axis='both', which='major', labelsize=10)\n",
    "\n",
    "ax[1].plot(inv_word['ind'][:10], inv_word['count'][:10], color = 'black', alpha = 0.5)\n",
    "ax[1].set_title('10 most frequent keywords in most in-demand jobs with Goldman Sachs in NY as of '+str (date.today()))\n",
    "ax[1].set_xticks([0, 1, 2, 3, 4, 5, 6, 7, 8, 9])\n",
    "ax[1].set_xticklabels(inv_word['keyword'], rotation=30, rotation_mode=\"anchor\", ha=\"right\")\n",
    "ax[1].set_ylim(0, 200)\n",
    "ax[1].set_yticks([0, 100, 200])\n",
    "ax[1].set_ylabel('keywords dist out of ' + str(len(rslt)) + ' total scraped jobs')"
   ]
  },
  {
   "cell_type": "code",
   "execution_count": null,
   "metadata": {},
   "outputs": [],
   "source": []
  }
 ],
 "metadata": {
  "kernelspec": {
   "display_name": "Python 3",
   "language": "python",
   "name": "python3"
  },
  "language_info": {
   "codemirror_mode": {
    "name": "ipython",
    "version": 3
   },
   "file_extension": ".py",
   "mimetype": "text/x-python",
   "name": "python",
   "nbconvert_exporter": "python",
   "pygments_lexer": "ipython3",
   "version": "3.7.3"
  }
 },
 "nbformat": 4,
 "nbformat_minor": 2
}
